{
  "nbformat": 4,
  "nbformat_minor": 0,
  "metadata": {
    "colab": {
      "provenance": []
    },
    "kernelspec": {
      "name": "python3",
      "display_name": "Python 3"
    },
    "language_info": {
      "name": "python"
    }
  },
  "cells": [
    {
      "cell_type": "code",
      "execution_count": null,
      "metadata": {
        "id": "ZCpSR4JOuAZb"
      },
      "outputs": [],
      "source": [
        "import tensorflow as tf\n",
        "\n",
        "from tensorflow import keras\n",
        "\n",
        "import cv2\n",
        "\n",
        "import numpy as np\n",
        "\n",
        "loaded_model = keras.models.load_model('weapon_detection_model.h5')\n",
        "\n",
        "cap = cv2.VideoCapture(0)\n",
        "def detect_weapons(frame):\n",
        "\n",
        "\n",
        "    frame = cv2.resize(frame, (224, 224))\n",
        "    frame = frame / 255.0\n",
        "\n",
        "    prediction = loaded_model.predict(np.expand_dims(frame, axis=0))\n",
        "\n",
        "    return prediction\n",
        "while True:\n",
        "    ret, frame = cap.read()\n",
        "\n",
        "    if not ret:\n",
        "        break\n",
        "\n",
        "\n",
        "    prediction = detect_weapons(frame)\n",
        "\n",
        "    label = \"Weapon\" if prediction >= 0.5 else \"Not a Weapon\"\n",
        "\n",
        "\n",
        "    cv2.putText(frame, label, (10, 30), cv2.FONT_HERSHEY_SIMPLEX, 1, (0, 0, 255), 2)\n",
        "\n",
        "\n",
        "    cv2.imshow('Weapon Detection', frame)\n",
        "\n",
        "    if cv2.waitKey(1) & 0xFF == ord('q'):\n",
        "        break\n",
        "\n",
        "cap.release()\n",
        "cv2.destroyAllWindows()\n"
      ]
    }
  ]
}